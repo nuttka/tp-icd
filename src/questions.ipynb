{
 "cells": [
  {
   "cell_type": "markdown",
   "id": "8472f651",
   "metadata": {},
   "source": [
    "### Perguntas"
   ]
  },
  {
   "cell_type": "markdown",
   "id": "704d0568",
   "metadata": {},
   "source": [
    "Qual abertura possui mais taxa de vitórias enquanto brancas? E enquanto negras?\n",
    "\n",
    "A abertura mais utilizada também se mostra a mais eficiente?\n",
    "\n",
    "Qual a relação entre o tipo de vitória e o ratting dos jogadores?\n",
    "\n",
    "Qual a relação entre o tipo de vitória e o tipo de partida?"
   ]
  }
 ],
 "metadata": {
  "kernelspec": {
   "display_name": "Python 3",
   "language": "python",
   "name": "python3"
  },
  "language_info": {
   "codemirror_mode": {
    "name": "ipython",
    "version": 3
   },
   "file_extension": ".py",
   "mimetype": "text/x-python",
   "name": "python",
   "nbconvert_exporter": "python",
   "pygments_lexer": "ipython3",
   "version": "3.8.5"
  }
 },
 "nbformat": 4,
 "nbformat_minor": 5
}
